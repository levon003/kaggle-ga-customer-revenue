{
 "cells": [
  {
   "cell_type": "code",
   "execution_count": null,
   "metadata": {},
   "outputs": [],
   "source": []
  },
  {
   "cell_type": "code",
   "execution_count": 14,
   "metadata": {},
   "outputs": [],
   "source": [
    "import os\n",
    "import pandas as pd\n",
    "from collections import Counter\n",
    "import json\n",
    "from tqdm import tqdm"
   ]
  },
  {
   "cell_type": "code",
   "execution_count": 3,
   "metadata": {},
   "outputs": [],
   "source": [
    "raw_data_dir = \"../data/raw\"\n",
    "assert os.path.exists(raw_data_dir)"
   ]
  },
  {
   "cell_type": "code",
   "execution_count": 4,
   "metadata": {},
   "outputs": [],
   "source": [
    "train_filename = os.path.join(raw_data_dir, \"train.csv\")"
   ]
  },
  {
   "cell_type": "code",
   "execution_count": 5,
   "metadata": {},
   "outputs": [
    {
     "name": "stderr",
     "output_type": "stream",
     "text": [
      "/home/levon003/anaconda3/lib/python3.6/site-packages/IPython/core/interactiveshell.py:2785: DtypeWarning: Columns (3) have mixed types. Specify dtype option on import or set low_memory=False.\n",
      "  interactivity=interactivity, compiler=compiler, result=result)\n"
     ]
    }
   ],
   "source": [
    "train = pd.read_csv(train_filename)"
   ]
  },
  {
   "cell_type": "code",
   "execution_count": 6,
   "metadata": {},
   "outputs": [
    {
     "data": {
      "text/plain": [
       "903653"
      ]
     },
     "execution_count": 6,
     "metadata": {},
     "output_type": "execute_result"
    }
   ],
   "source": [
    "len(train)"
   ]
  },
  {
   "cell_type": "code",
   "execution_count": 7,
   "metadata": {},
   "outputs": [
    {
     "data": {
      "text/html": [
       "<div>\n",
       "<style scoped>\n",
       "    .dataframe tbody tr th:only-of-type {\n",
       "        vertical-align: middle;\n",
       "    }\n",
       "\n",
       "    .dataframe tbody tr th {\n",
       "        vertical-align: top;\n",
       "    }\n",
       "\n",
       "    .dataframe thead th {\n",
       "        text-align: right;\n",
       "    }\n",
       "</style>\n",
       "<table border=\"1\" class=\"dataframe\">\n",
       "  <thead>\n",
       "    <tr style=\"text-align: right;\">\n",
       "      <th></th>\n",
       "      <th>channelGrouping</th>\n",
       "      <th>date</th>\n",
       "      <th>device</th>\n",
       "      <th>fullVisitorId</th>\n",
       "      <th>geoNetwork</th>\n",
       "      <th>sessionId</th>\n",
       "      <th>socialEngagementType</th>\n",
       "      <th>totals</th>\n",
       "      <th>trafficSource</th>\n",
       "      <th>visitId</th>\n",
       "      <th>visitNumber</th>\n",
       "      <th>visitStartTime</th>\n",
       "    </tr>\n",
       "  </thead>\n",
       "  <tbody>\n",
       "    <tr>\n",
       "      <th>0</th>\n",
       "      <td>Organic Search</td>\n",
       "      <td>20160902</td>\n",
       "      <td>{\"browser\": \"Chrome\", \"browserVersion\": \"not a...</td>\n",
       "      <td>1131660440785968503</td>\n",
       "      <td>{\"continent\": \"Asia\", \"subContinent\": \"Western...</td>\n",
       "      <td>1131660440785968503_1472830385</td>\n",
       "      <td>Not Socially Engaged</td>\n",
       "      <td>{\"visits\": \"1\", \"hits\": \"1\", \"pageviews\": \"1\",...</td>\n",
       "      <td>{\"campaign\": \"(not set)\", \"source\": \"google\", ...</td>\n",
       "      <td>1472830385</td>\n",
       "      <td>1</td>\n",
       "      <td>1472830385</td>\n",
       "    </tr>\n",
       "    <tr>\n",
       "      <th>1</th>\n",
       "      <td>Organic Search</td>\n",
       "      <td>20160902</td>\n",
       "      <td>{\"browser\": \"Firefox\", \"browserVersion\": \"not ...</td>\n",
       "      <td>377306020877927890</td>\n",
       "      <td>{\"continent\": \"Oceania\", \"subContinent\": \"Aust...</td>\n",
       "      <td>377306020877927890_1472880147</td>\n",
       "      <td>Not Socially Engaged</td>\n",
       "      <td>{\"visits\": \"1\", \"hits\": \"1\", \"pageviews\": \"1\",...</td>\n",
       "      <td>{\"campaign\": \"(not set)\", \"source\": \"google\", ...</td>\n",
       "      <td>1472880147</td>\n",
       "      <td>1</td>\n",
       "      <td>1472880147</td>\n",
       "    </tr>\n",
       "    <tr>\n",
       "      <th>2</th>\n",
       "      <td>Organic Search</td>\n",
       "      <td>20160902</td>\n",
       "      <td>{\"browser\": \"Chrome\", \"browserVersion\": \"not a...</td>\n",
       "      <td>3895546263509774583</td>\n",
       "      <td>{\"continent\": \"Europe\", \"subContinent\": \"South...</td>\n",
       "      <td>3895546263509774583_1472865386</td>\n",
       "      <td>Not Socially Engaged</td>\n",
       "      <td>{\"visits\": \"1\", \"hits\": \"1\", \"pageviews\": \"1\",...</td>\n",
       "      <td>{\"campaign\": \"(not set)\", \"source\": \"google\", ...</td>\n",
       "      <td>1472865386</td>\n",
       "      <td>1</td>\n",
       "      <td>1472865386</td>\n",
       "    </tr>\n",
       "    <tr>\n",
       "      <th>3</th>\n",
       "      <td>Organic Search</td>\n",
       "      <td>20160902</td>\n",
       "      <td>{\"browser\": \"UC Browser\", \"browserVersion\": \"n...</td>\n",
       "      <td>4763447161404445595</td>\n",
       "      <td>{\"continent\": \"Asia\", \"subContinent\": \"Southea...</td>\n",
       "      <td>4763447161404445595_1472881213</td>\n",
       "      <td>Not Socially Engaged</td>\n",
       "      <td>{\"visits\": \"1\", \"hits\": \"1\", \"pageviews\": \"1\",...</td>\n",
       "      <td>{\"campaign\": \"(not set)\", \"source\": \"google\", ...</td>\n",
       "      <td>1472881213</td>\n",
       "      <td>1</td>\n",
       "      <td>1472881213</td>\n",
       "    </tr>\n",
       "    <tr>\n",
       "      <th>4</th>\n",
       "      <td>Organic Search</td>\n",
       "      <td>20160902</td>\n",
       "      <td>{\"browser\": \"Chrome\", \"browserVersion\": \"not a...</td>\n",
       "      <td>27294437909732085</td>\n",
       "      <td>{\"continent\": \"Europe\", \"subContinent\": \"North...</td>\n",
       "      <td>27294437909732085_1472822600</td>\n",
       "      <td>Not Socially Engaged</td>\n",
       "      <td>{\"visits\": \"1\", \"hits\": \"1\", \"pageviews\": \"1\",...</td>\n",
       "      <td>{\"campaign\": \"(not set)\", \"source\": \"google\", ...</td>\n",
       "      <td>1472822600</td>\n",
       "      <td>2</td>\n",
       "      <td>1472822600</td>\n",
       "    </tr>\n",
       "  </tbody>\n",
       "</table>\n",
       "</div>"
      ],
      "text/plain": [
       "  channelGrouping      date  \\\n",
       "0  Organic Search  20160902   \n",
       "1  Organic Search  20160902   \n",
       "2  Organic Search  20160902   \n",
       "3  Organic Search  20160902   \n",
       "4  Organic Search  20160902   \n",
       "\n",
       "                                              device        fullVisitorId  \\\n",
       "0  {\"browser\": \"Chrome\", \"browserVersion\": \"not a...  1131660440785968503   \n",
       "1  {\"browser\": \"Firefox\", \"browserVersion\": \"not ...   377306020877927890   \n",
       "2  {\"browser\": \"Chrome\", \"browserVersion\": \"not a...  3895546263509774583   \n",
       "3  {\"browser\": \"UC Browser\", \"browserVersion\": \"n...  4763447161404445595   \n",
       "4  {\"browser\": \"Chrome\", \"browserVersion\": \"not a...    27294437909732085   \n",
       "\n",
       "                                          geoNetwork  \\\n",
       "0  {\"continent\": \"Asia\", \"subContinent\": \"Western...   \n",
       "1  {\"continent\": \"Oceania\", \"subContinent\": \"Aust...   \n",
       "2  {\"continent\": \"Europe\", \"subContinent\": \"South...   \n",
       "3  {\"continent\": \"Asia\", \"subContinent\": \"Southea...   \n",
       "4  {\"continent\": \"Europe\", \"subContinent\": \"North...   \n",
       "\n",
       "                        sessionId  socialEngagementType  \\\n",
       "0  1131660440785968503_1472830385  Not Socially Engaged   \n",
       "1   377306020877927890_1472880147  Not Socially Engaged   \n",
       "2  3895546263509774583_1472865386  Not Socially Engaged   \n",
       "3  4763447161404445595_1472881213  Not Socially Engaged   \n",
       "4    27294437909732085_1472822600  Not Socially Engaged   \n",
       "\n",
       "                                              totals  \\\n",
       "0  {\"visits\": \"1\", \"hits\": \"1\", \"pageviews\": \"1\",...   \n",
       "1  {\"visits\": \"1\", \"hits\": \"1\", \"pageviews\": \"1\",...   \n",
       "2  {\"visits\": \"1\", \"hits\": \"1\", \"pageviews\": \"1\",...   \n",
       "3  {\"visits\": \"1\", \"hits\": \"1\", \"pageviews\": \"1\",...   \n",
       "4  {\"visits\": \"1\", \"hits\": \"1\", \"pageviews\": \"1\",...   \n",
       "\n",
       "                                       trafficSource     visitId  visitNumber  \\\n",
       "0  {\"campaign\": \"(not set)\", \"source\": \"google\", ...  1472830385            1   \n",
       "1  {\"campaign\": \"(not set)\", \"source\": \"google\", ...  1472880147            1   \n",
       "2  {\"campaign\": \"(not set)\", \"source\": \"google\", ...  1472865386            1   \n",
       "3  {\"campaign\": \"(not set)\", \"source\": \"google\", ...  1472881213            1   \n",
       "4  {\"campaign\": \"(not set)\", \"source\": \"google\", ...  1472822600            2   \n",
       "\n",
       "   visitStartTime  \n",
       "0      1472830385  \n",
       "1      1472880147  \n",
       "2      1472865386  \n",
       "3      1472881213  \n",
       "4      1472822600  "
      ]
     },
     "execution_count": 7,
     "metadata": {},
     "output_type": "execute_result"
    }
   ],
   "source": [
    "train.head()"
   ]
  },
  {
   "cell_type": "code",
   "execution_count": 10,
   "metadata": {},
   "outputs": [
    {
     "data": {
      "text/plain": [
       "[('Organic Search', 381561),\n",
       " ('Social', 226117),\n",
       " ('Direct', 143026),\n",
       " ('Referral', 104838),\n",
       " ('Paid Search', 25326),\n",
       " ('Affiliates', 16403),\n",
       " ('Display', 6262),\n",
       " ('(Other)', 120)]"
      ]
     },
     "execution_count": 10,
     "metadata": {},
     "output_type": "execute_result"
    }
   ],
   "source": [
    "Counter(train[\"channelGrouping\"]).most_common()"
   ]
  },
  {
   "cell_type": "markdown",
   "metadata": {},
   "source": [
    "## Device Data"
   ]
  },
  {
   "cell_type": "code",
   "execution_count": 15,
   "metadata": {},
   "outputs": [
    {
     "data": {
      "text/plain": [
       "[{'browser': 'Chrome',\n",
       "  'operatingSystem': 'Windows',\n",
       "  'isMobile': False,\n",
       "  'deviceCategory': 'desktop'},\n",
       " {'browser': 'Firefox',\n",
       "  'operatingSystem': 'Macintosh',\n",
       "  'isMobile': False,\n",
       "  'deviceCategory': 'desktop'}]"
      ]
     },
     "execution_count": 15,
     "metadata": {},
     "output_type": "execute_result"
    }
   ],
   "source": [
    "not_available = \"not available in demo dataset\"\n",
    "device_info_list = []\n",
    "for device_json in train[\"device\"]:\n",
    "    device_dict = json.loads(device_json)\n",
    "    to_del = []\n",
    "    for key in device_dict:\n",
    "        if device_dict[key] == not_available:\n",
    "            to_del.append(key)\n",
    "    for key in to_del:\n",
    "        del device_dict[key]\n",
    "    device_info_list.append(device_dict)\n",
    "device_info_list[:2]"
   ]
  },
  {
   "cell_type": "code",
   "execution_count": 16,
   "metadata": {},
   "outputs": [],
   "source": [
    "browser = [di['browser'] for di in device_info_list]\n",
    "operatingSystem = [di['operatingSystem'] for di in device_info_list]\n",
    "isMobile = [di['isMobile'] for di in device_info_list]\n",
    "deviceCategory = [di['deviceCategory'] for di in device_info_list]"
   ]
  },
  {
   "cell_type": "code",
   "execution_count": 18,
   "metadata": {},
   "outputs": [
    {
     "data": {
      "text/plain": [
       "[('Chrome', 620364),\n",
       " ('Safari', 182245),\n",
       " ('Firefox', 37069),\n",
       " ('Internet Explorer', 19375),\n",
       " ('Edge', 10205),\n",
       " ('Android Webview', 7865),\n",
       " ('Safari (in-app)', 6850),\n",
       " ('Opera Mini', 6139),\n",
       " ('Opera', 5643),\n",
       " ('UC Browser', 2427),\n",
       " ('YaBrowser', 2096),\n",
       " ('Coc Coc', 727),\n",
       " ('Amazon Silk', 561),\n",
       " ('Android Browser', 553),\n",
       " ('Mozilla Compatible Agent', 374),\n",
       " ('MRCHROME', 263),\n",
       " ('Maxthon', 246),\n",
       " ('BlackBerry', 184),\n",
       " ('Nintendo Browser', 140),\n",
       " ('Puffin', 93)]"
      ]
     },
     "execution_count": 18,
     "metadata": {},
     "output_type": "execute_result"
    }
   ],
   "source": [
    "Counter(browser).most_common()[:20]"
   ]
  },
  {
   "cell_type": "code",
   "execution_count": 19,
   "metadata": {},
   "outputs": [
    {
     "data": {
      "text/plain": [
       "[('Windows', 350072),\n",
       " ('Macintosh', 253938),\n",
       " ('Android', 123892),\n",
       " ('iOS', 107665),\n",
       " ('Linux', 35034),\n",
       " ('Chrome OS', 26337),\n",
       " ('(not set)', 4695),\n",
       " ('Windows Phone', 1216),\n",
       " ('Samsung', 280),\n",
       " ('BlackBerry', 218),\n",
       " ('Nintendo Wii', 100),\n",
       " ('Firefox OS', 89),\n",
       " ('Xbox', 66),\n",
       " ('Nintendo WiiU', 35),\n",
       " ('FreeBSD', 9),\n",
       " ('Nokia', 2),\n",
       " ('OpenBSD', 2),\n",
       " ('NTT DoCoMo', 1),\n",
       " ('Nintendo 3DS', 1),\n",
       " ('SunOS', 1)]"
      ]
     },
     "execution_count": 19,
     "metadata": {},
     "output_type": "execute_result"
    }
   ],
   "source": [
    "Counter(operatingSystem).most_common()[:20]"
   ]
  },
  {
   "cell_type": "code",
   "execution_count": 22,
   "metadata": {},
   "outputs": [
    {
     "data": {
      "text/plain": [
       "[(False, 664530), (True, 239123)]"
      ]
     },
     "execution_count": 22,
     "metadata": {},
     "output_type": "execute_result"
    }
   ],
   "source": [
    "Counter(isMobile).most_common()[:20]"
   ]
  },
  {
   "cell_type": "code",
   "execution_count": 23,
   "metadata": {},
   "outputs": [
    {
     "data": {
      "text/plain": [
       "[('desktop', 664479), ('mobile', 208725), ('tablet', 30449)]"
      ]
     },
     "execution_count": 23,
     "metadata": {},
     "output_type": "execute_result"
    }
   ],
   "source": [
    "Counter(deviceCategory).most_common()[:20]"
   ]
  },
  {
   "cell_type": "markdown",
   "metadata": {},
   "source": [
    "## Traffic Source"
   ]
  },
  {
   "cell_type": "code",
   "execution_count": 24,
   "metadata": {},
   "outputs": [
    {
     "data": {
      "text/plain": [
       "[{'campaign': '(not set)',\n",
       "  'source': 'google',\n",
       "  'medium': 'organic',\n",
       "  'keyword': '(not provided)',\n",
       "  'adwordsClickInfo': {'criteriaParameters': 'not available in demo dataset'}},\n",
       " {'campaign': '(not set)',\n",
       "  'source': 'google',\n",
       "  'medium': 'organic',\n",
       "  'keyword': '(not provided)',\n",
       "  'adwordsClickInfo': {'criteriaParameters': 'not available in demo dataset'}}]"
      ]
     },
     "execution_count": 24,
     "metadata": {},
     "output_type": "execute_result"
    }
   ],
   "source": [
    "not_available = \"not available in demo dataset\"\n",
    "traffic_source_list = []\n",
    "for traffic_source_json in train[\"trafficSource\"]:\n",
    "    traffic_source_dict = json.loads(traffic_source_json)\n",
    "    to_del = []\n",
    "    for key in traffic_source_dict:\n",
    "        if traffic_source_dict[key] == not_available:\n",
    "            to_del.append(key)\n",
    "    for key in to_del:\n",
    "        del traffic_source_dict[key]\n",
    "    traffic_source_list.append(traffic_source_dict)\n",
    "traffic_source_list[:2]"
   ]
  },
  {
   "cell_type": "code",
   "execution_count": 37,
   "metadata": {},
   "outputs": [],
   "source": [
    "campaign = [ts['campaign'] for ts in traffic_source_list]\n",
    "source = [ts['source'] for ts in traffic_source_list]\n",
    "medium = [ts['medium'] for ts in traffic_source_list]\n",
    "keyword = [ts['keyword'] if \"keyword\" in ts else None for ts in traffic_source_list]"
   ]
  },
  {
   "cell_type": "code",
   "execution_count": 28,
   "metadata": {},
   "outputs": [
    {
     "data": {
      "text/plain": [
       "[('(not set)', 865347),\n",
       " ('Data Share Promo', 16403),\n",
       " ('AW - Dynamic Search Ads Whole Site', 14244),\n",
       " ('AW - Accessories', 7070),\n",
       " ('test-liyuhz', 392),\n",
       " ('AW - Electronics', 96),\n",
       " ('Retail (DO NOT EDIT owners nophakun and tianyu)', 50),\n",
       " ('AW - Apparel', 46),\n",
       " ('All Products', 4),\n",
       " ('Data Share', 1)]"
      ]
     },
     "execution_count": 28,
     "metadata": {},
     "output_type": "execute_result"
    }
   ],
   "source": [
    "Counter(campaign).most_common()[:20]"
   ]
  },
  {
   "cell_type": "code",
   "execution_count": 33,
   "metadata": {},
   "outputs": [
    {
     "data": {
      "text/plain": [
       "[('google', 400788),\n",
       " ('youtube.com', 212602),\n",
       " ('(direct)', 143028),\n",
       " ('mall.googleplex.com', 66416),\n",
       " ('Partners', 16411),\n",
       " ('analytics.google.com', 16172),\n",
       " ('dfa', 5686),\n",
       " ('google.com', 4669),\n",
       " ('m.facebook.com', 3365),\n",
       " ('baidu', 3356),\n",
       " ('sites.google.com', 2983),\n",
       " ('facebook.com', 2296),\n",
       " ('siliconvalley.about.com', 2097),\n",
       " ('reddit.com', 2022),\n",
       " ('qiita.com', 1813),\n",
       " ('quora.com', 1546),\n",
       " ('bing', 1530),\n",
       " ('t.co', 1529),\n",
       " ('yahoo', 1480),\n",
       " ('mail.google.com', 1457)]"
      ]
     },
     "execution_count": 33,
     "metadata": {},
     "output_type": "execute_result"
    }
   ],
   "source": [
    "Counter(source).most_common()[:20]"
   ]
  },
  {
   "cell_type": "code",
   "execution_count": 34,
   "metadata": {},
   "outputs": [
    {
     "data": {
      "text/plain": [
       "[('organic', 381561),\n",
       " ('referral', 330955),\n",
       " ('(none)', 143026),\n",
       " ('cpc', 25326),\n",
       " ('affiliate', 16403),\n",
       " ('cpm', 6262),\n",
       " ('(not set)', 120)]"
      ]
     },
     "execution_count": 34,
     "metadata": {},
     "output_type": "execute_result"
    }
   ],
   "source": [
    "Counter(medium).most_common()[:20]"
   ]
  },
  {
   "cell_type": "code",
   "execution_count": 60,
   "metadata": {
    "scrolled": true
   },
   "outputs": [
    {
     "data": {
      "text/plain": [
       "[(None, 502929),\n",
       " ('(not provided)', 366363),\n",
       " ('6qEhsCssdK0z36ri', 11503),\n",
       " ('(Remarketing/Content targeting)', 2298),\n",
       " ('1hZbAqLCbjwfgOH7', 2264),\n",
       " ('google merchandise store', 2209),\n",
       " ('Google Merchandise', 1648),\n",
       " ('google store', 1277),\n",
       " ('youtube', 568),\n",
       " ('(User vertical targeting)', 489),\n",
       " ('1X4Me6ZKNV0zg-jV', 467),\n",
       " ('(automatic matching)', 427),\n",
       " ('+google +store', 377),\n",
       " ('+Google +Merchandise', 352),\n",
       " ('(content targeting)', 299),\n",
       " ('+google +merchandise +store', 258),\n",
       " ('YouTube Merchandise', 254),\n",
       " ('youtube merch', 247),\n",
       " ('google merchandise', 238),\n",
       " ('google merch', 210)]"
      ]
     },
     "execution_count": 60,
     "metadata": {},
     "output_type": "execute_result"
    }
   ],
   "source": [
    "Counter(keyword).most_common()[:20]"
   ]
  },
  {
   "cell_type": "markdown",
   "metadata": {},
   "source": [
    "### Adwords Click Info"
   ]
  },
  {
   "cell_type": "code",
   "execution_count": 49,
   "metadata": {},
   "outputs": [
    {
     "data": {
      "text/plain": [
       "[{'page': '1',\n",
       "  'slot': 'Top',\n",
       "  'adNetworkType': 'Google Search',\n",
       "  'isVideoAd': False},\n",
       " {'page': '1',\n",
       "  'slot': 'Top',\n",
       "  'adNetworkType': 'Google Search',\n",
       "  'isVideoAd': False}]"
      ]
     },
     "execution_count": 49,
     "metadata": {},
     "output_type": "execute_result"
    }
   ],
   "source": [
    "adwordsClickInfo_list = []\n",
    "for adwordsClickInfo_json in [ts['adwordsClickInfo'] for ts in traffic_source_list]:\n",
    "    adwordsClickInfo_dict = adwordsClickInfo_json #json.loads(adwordsClickInfo_json)\n",
    "    if \"gclId\" in adwordsClickInfo_dict:\n",
    "        del adwordsClickInfo_dict[\"gclId\"]\n",
    "    to_del = []\n",
    "    for key in adwordsClickInfo_dict:\n",
    "        if adwordsClickInfo_dict[key] == not_available:\n",
    "            to_del.append(key)\n",
    "    for key in to_del:\n",
    "        del adwordsClickInfo_dict[key]\n",
    "    if len(adwordsClickInfo_dict) == 0:\n",
    "        continue\n",
    "    adwordsClickInfo_list.append(adwordsClickInfo_dict)\n",
    "adwordsClickInfo_list[:2]"
   ]
  },
  {
   "cell_type": "code",
   "execution_count": 51,
   "metadata": {},
   "outputs": [
    {
     "data": {
      "text/html": [
       "<div>\n",
       "<style scoped>\n",
       "    .dataframe tbody tr th:only-of-type {\n",
       "        vertical-align: middle;\n",
       "    }\n",
       "\n",
       "    .dataframe tbody tr th {\n",
       "        vertical-align: top;\n",
       "    }\n",
       "\n",
       "    .dataframe thead th {\n",
       "        text-align: right;\n",
       "    }\n",
       "</style>\n",
       "<table border=\"1\" class=\"dataframe\">\n",
       "  <thead>\n",
       "    <tr style=\"text-align: right;\">\n",
       "      <th></th>\n",
       "      <th>adNetworkType</th>\n",
       "      <th>isVideoAd</th>\n",
       "      <th>page</th>\n",
       "      <th>slot</th>\n",
       "      <th>targetingCriteria</th>\n",
       "    </tr>\n",
       "  </thead>\n",
       "  <tbody>\n",
       "    <tr>\n",
       "      <th>0</th>\n",
       "      <td>Google Search</td>\n",
       "      <td>False</td>\n",
       "      <td>1</td>\n",
       "      <td>Top</td>\n",
       "      <td>NaN</td>\n",
       "    </tr>\n",
       "    <tr>\n",
       "      <th>1</th>\n",
       "      <td>Google Search</td>\n",
       "      <td>False</td>\n",
       "      <td>1</td>\n",
       "      <td>Top</td>\n",
       "      <td>NaN</td>\n",
       "    </tr>\n",
       "    <tr>\n",
       "      <th>2</th>\n",
       "      <td>Google Search</td>\n",
       "      <td>False</td>\n",
       "      <td>1</td>\n",
       "      <td>Top</td>\n",
       "      <td>{}</td>\n",
       "    </tr>\n",
       "    <tr>\n",
       "      <th>3</th>\n",
       "      <td>Google Search</td>\n",
       "      <td>False</td>\n",
       "      <td>1</td>\n",
       "      <td>Top</td>\n",
       "      <td>NaN</td>\n",
       "    </tr>\n",
       "    <tr>\n",
       "      <th>4</th>\n",
       "      <td>Google Search</td>\n",
       "      <td>False</td>\n",
       "      <td>1</td>\n",
       "      <td>Top</td>\n",
       "      <td>NaN</td>\n",
       "    </tr>\n",
       "  </tbody>\n",
       "</table>\n",
       "</div>"
      ],
      "text/plain": [
       "   adNetworkType  isVideoAd page slot targetingCriteria\n",
       "0  Google Search      False    1  Top               NaN\n",
       "1  Google Search      False    1  Top               NaN\n",
       "2  Google Search      False    1  Top                {}\n",
       "3  Google Search      False    1  Top               NaN\n",
       "4  Google Search      False    1  Top               NaN"
      ]
     },
     "execution_count": 51,
     "metadata": {},
     "output_type": "execute_result"
    }
   ],
   "source": [
    "adwordsClickInfo = pd.DataFrame(adwordsClickInfo_list)\n",
    "adwordsClickInfo.head()"
   ]
  },
  {
   "cell_type": "code",
   "execution_count": 53,
   "metadata": {},
   "outputs": [
    {
     "data": {
      "text/plain": [
       "[('Google Search', 21453), ('Search partners', 7)]"
      ]
     },
     "execution_count": 53,
     "metadata": {},
     "output_type": "execute_result"
    }
   ],
   "source": [
    "Counter(adwordsClickInfo[\"adNetworkType\"]).most_common()[:20]"
   ]
  },
  {
   "cell_type": "code",
   "execution_count": 54,
   "metadata": {},
   "outputs": [
    {
     "data": {
      "text/plain": [
       "[('1', 21362),\n",
       " ('2', 73),\n",
       " ('3', 10),\n",
       " ('5', 7),\n",
       " ('7', 3),\n",
       " ('9', 2),\n",
       " ('4', 2),\n",
       " ('14', 1)]"
      ]
     },
     "execution_count": 54,
     "metadata": {},
     "output_type": "execute_result"
    }
   ],
   "source": [
    "Counter(adwordsClickInfo[\"page\"]).most_common()[:20]"
   ]
  },
  {
   "cell_type": "code",
   "execution_count": 55,
   "metadata": {},
   "outputs": [
    {
     "data": {
      "text/plain": [
       "[('Top', 20956), ('RHS', 504)]"
      ]
     },
     "execution_count": 55,
     "metadata": {},
     "output_type": "execute_result"
    }
   ],
   "source": [
    "Counter(adwordsClickInfo[\"slot\"]).most_common()[:20]"
   ]
  },
  {
   "cell_type": "code",
   "execution_count": 57,
   "metadata": {},
   "outputs": [
    {
     "data": {
      "text/plain": [
       "[('nan', 20000), ('{}', 1460)]"
      ]
     },
     "execution_count": 57,
     "metadata": {},
     "output_type": "execute_result"
    }
   ],
   "source": [
    "Counter([str(tc) for tc in adwordsClickInfo[\"targetingCriteria\"]]).most_common()[:20]"
   ]
  },
  {
   "cell_type": "code",
   "execution_count": 58,
   "metadata": {},
   "outputs": [
    {
     "data": {
      "text/plain": [
       "[(False, 21460)]"
      ]
     },
     "execution_count": 58,
     "metadata": {},
     "output_type": "execute_result"
    }
   ],
   "source": [
    "Counter(adwordsClickInfo[\"isVideoAd\"]).most_common()[:20]"
   ]
  },
  {
   "cell_type": "code",
   "execution_count": null,
   "metadata": {},
   "outputs": [],
   "source": []
  }
 ],
 "metadata": {
  "kernelspec": {
   "display_name": "Python 3",
   "language": "python",
   "name": "python3"
  },
  "language_info": {
   "codemirror_mode": {
    "name": "ipython",
    "version": 3
   },
   "file_extension": ".py",
   "mimetype": "text/x-python",
   "name": "python",
   "nbconvert_exporter": "python",
   "pygments_lexer": "ipython3",
   "version": "3.6.5"
  }
 },
 "nbformat": 4,
 "nbformat_minor": 2
}
